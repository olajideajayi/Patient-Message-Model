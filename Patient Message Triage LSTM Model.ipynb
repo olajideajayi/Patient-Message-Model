{
 "cells": [
  {
   "cell_type": "code",
   "execution_count": 1,
   "id": "5fd7d11e",
   "metadata": {},
   "outputs": [
    {
     "name": "stderr",
     "output_type": "stream",
     "text": [
      "[nltk_data] Downloading package punkt to\n",
      "[nltk_data]     C:\\Users\\olajideajayi\\AppData\\Roaming\\nltk_data...\n",
      "[nltk_data]   Package punkt is already up-to-date!\n"
     ]
    },
    {
     "data": {
      "text/plain": [
       "True"
      ]
     },
     "execution_count": 1,
     "metadata": {},
     "output_type": "execute_result"
    }
   ],
   "source": [
    "#Load Modules/Libraries\n",
    "from azure.storage.blob import BlobClient # Connection to Azure Directory/Blob Service\n",
    "import pandas as pd  #read and wrangling\n",
    "import numpy as np   #linear algebra\n",
    "from tqdm import tqdm\n",
    "from keras.preprocessing.text import Tokenizer\n",
    "tqdm.pandas(desc=\"progress-bar\")\n",
    "from gensim.models import Doc2Vec\n",
    "from sklearn import utils\n",
    "from sklearn.model_selection import train_test_split  #ML algorithm\n",
    "from keras.preprocessing.sequence import pad_sequences  #ML algorithm\n",
    "import gensim\n",
    "from sklearn.linear_model import LogisticRegression  #ML algorithm\n",
    "from gensim.models.doc2vec import TaggedDocument\n",
    "import re\n",
    "import seaborn as sns  #other visualizations\n",
    "import matplotlib.pyplot as plt\n",
    "from keras.models import Sequential  #ML algorithm\n",
    "from keras.layers import LSTM, Dense, Embedding #ML algorithm\n",
    "from bs4 import BeautifulSoup  #Scrapping library\n",
    "from pandasql import sqldf #SQL for data wrangling\n",
    "import nltk #NLP tool kit\n",
    "from nltk.corpus import stopwords\n",
    "nltk.download('punkt')"
   ]
  },
  {
   "cell_type": "code",
   "execution_count": 2,
   "id": "dd929b67",
   "metadata": {},
   "outputs": [],
   "source": [
    "#Azure credential and Synthea Datasets\n",
    "blob = BlobClient(account_url=\"https://olastorageac.blob.core.windows.net\",\n",
    "                  container_name=\"syntheacsv\",\n",
    "                  blob_name=\"encounters.csv\",\n",
    "                  credential=\"cbRvJaX7t1PDyGQz/GOZ1Ee1odMJA/1hI0XWS3YY8TJGvWkGzO644EwYQ6n/eEXAYXoqEOD/Gp9rR9vVlv4mFg==\")"
   ]
  },
  {
   "cell_type": "code",
   "execution_count": 3,
   "id": "3724a43e",
   "metadata": {},
   "outputs": [],
   "source": [
    "#Open dataset\n",
    "with open(\"encounters.csv\", \"wb\") as a:\n",
    "    data = blob.download_blob()\n",
    "    data.readinto(a)"
   ]
  },
  {
   "cell_type": "code",
   "execution_count": 53,
   "id": "a86f35fe",
   "metadata": {},
   "outputs": [],
   "source": [
    "#Azure credential and Synthea Datasets\n",
    "blob1 = BlobClient(account_url=\"https://olastorageac.blob.core.windows.net\",\n",
    "                  container_name=\"syntheacsv\",\n",
    "                  blob_name=\"patients.csv\",\n",
    "                  credential=\"cbRvJaX7t1PDyGQz/GOZ1Ee1odMJA/1hI0XWS3YY8TJGvWkGzO644EwYQ6n/eEXAYXoqEOD/Gp9rR9vVlv4mFg==\")"
   ]
  },
  {
   "cell_type": "code",
   "execution_count": 54,
   "id": "9cc8c674",
   "metadata": {},
   "outputs": [],
   "source": [
    "#Open dataset\n",
    "with open(\"patients.csv\", \"wb\") as b:\n",
    "    data = blob1.download_blob()\n",
    "    data.readinto(b)"
   ]
  },
  {
   "cell_type": "code",
   "execution_count": 5,
   "id": "a555da3e",
   "metadata": {},
   "outputs": [],
   "source": [
    "#Read Synthea Datasets\n",
    "encounters = pd.read_csv(\"encounters.csv\")"
   ]
  },
  {
   "cell_type": "code",
   "execution_count": 56,
   "id": "36ad01e0",
   "metadata": {},
   "outputs": [],
   "source": [
    "#Read Synthea Datasets\n",
    "patients = pd.read_csv(\"patients.csv\")"
   ]
  },
  {
   "cell_type": "code",
   "execution_count": 6,
   "id": "927a80f8",
   "metadata": {},
   "outputs": [
    {
     "data": {
      "text/html": [
       "<div>\n",
       "<style scoped>\n",
       "    .dataframe tbody tr th:only-of-type {\n",
       "        vertical-align: middle;\n",
       "    }\n",
       "\n",
       "    .dataframe tbody tr th {\n",
       "        vertical-align: top;\n",
       "    }\n",
       "\n",
       "    .dataframe thead th {\n",
       "        text-align: right;\n",
       "    }\n",
       "</style>\n",
       "<table border=\"1\" class=\"dataframe\">\n",
       "  <thead>\n",
       "    <tr style=\"text-align: right;\">\n",
       "      <th></th>\n",
       "      <th>Id</th>\n",
       "      <th>START</th>\n",
       "      <th>STOP</th>\n",
       "      <th>PATIENT</th>\n",
       "      <th>ORGANIZATION</th>\n",
       "      <th>PROVIDER</th>\n",
       "      <th>PAYER</th>\n",
       "      <th>ENCOUNTERCLASS</th>\n",
       "      <th>CODE</th>\n",
       "      <th>DESCRIPTION</th>\n",
       "      <th>BASE_ENCOUNTER_COST</th>\n",
       "      <th>TOTAL_CLAIM_COST</th>\n",
       "      <th>PAYER_COVERAGE</th>\n",
       "      <th>REASONCODE</th>\n",
       "      <th>REASONDESCRIPTION</th>\n",
       "    </tr>\n",
       "  </thead>\n",
       "  <tbody>\n",
       "    <tr>\n",
       "      <th>0</th>\n",
       "      <td>d0c40d10-8d87-447e-836e-99d26ad52ea5</td>\n",
       "      <td>2010-01-23T17:45:28Z</td>\n",
       "      <td>2010-01-23T18:10:28Z</td>\n",
       "      <td>034e9e3b-2def-4559-bb2a-7850888ae060</td>\n",
       "      <td>e002090d-4e92-300e-b41e-7d1f21dee4c6</td>\n",
       "      <td>e6283e46-fd81-3611-9459-0edb1c3da357</td>\n",
       "      <td>6e2f1a2d-27bd-3701-8d08-dae202c58632</td>\n",
       "      <td>ambulatory</td>\n",
       "      <td>185345009</td>\n",
       "      <td>Encounter for symptom</td>\n",
       "      <td>129.16</td>\n",
       "      <td>129.16</td>\n",
       "      <td>54.16</td>\n",
       "      <td>10509002.0</td>\n",
       "      <td>Acute bronchitis (disorder)</td>\n",
       "    </tr>\n",
       "    <tr>\n",
       "      <th>1</th>\n",
       "      <td>e88bc3a9-007c-405e-aabc-792a38f4aa2b</td>\n",
       "      <td>2012-01-23T17:45:28Z</td>\n",
       "      <td>2012-01-23T18:00:28Z</td>\n",
       "      <td>034e9e3b-2def-4559-bb2a-7850888ae060</td>\n",
       "      <td>772ee193-bb9f-30eb-9939-21e86c8e4da5</td>\n",
       "      <td>6f1d59a7-a5bd-3cf9-9671-5bad2f351c28</td>\n",
       "      <td>6e2f1a2d-27bd-3701-8d08-dae202c58632</td>\n",
       "      <td>wellness</td>\n",
       "      <td>162673000</td>\n",
       "      <td>General examination of patient (procedure)</td>\n",
       "      <td>129.16</td>\n",
       "      <td>129.16</td>\n",
       "      <td>129.16</td>\n",
       "      <td>NaN</td>\n",
       "      <td>NaN</td>\n",
       "    </tr>\n",
       "    <tr>\n",
       "      <th>2</th>\n",
       "      <td>8f104aa7-4ca9-4473-885a-bba2437df588</td>\n",
       "      <td>2001-05-01T15:02:18Z</td>\n",
       "      <td>2001-05-01T15:17:18Z</td>\n",
       "      <td>1d604da9-9a81-4ba9-80c2-de3375d59b40</td>\n",
       "      <td>5d4b9df1-93ae-3bc9-b680-03249990e558</td>\n",
       "      <td>af01a385-31d3-3c77-8fdb-2867fe88df2f</td>\n",
       "      <td>b1c428d6-4f07-31e0-90f0-68ffa6ff8c76</td>\n",
       "      <td>ambulatory</td>\n",
       "      <td>185345009</td>\n",
       "      <td>Encounter for symptom</td>\n",
       "      <td>129.16</td>\n",
       "      <td>129.16</td>\n",
       "      <td>0.00</td>\n",
       "      <td>36971009.0</td>\n",
       "      <td>Sinusitis (disorder)</td>\n",
       "    </tr>\n",
       "    <tr>\n",
       "      <th>3</th>\n",
       "      <td>b85c339a-6076-43ed-b9d0-9cf013dec49d</td>\n",
       "      <td>2011-07-28T15:02:18Z</td>\n",
       "      <td>2011-07-28T15:17:18Z</td>\n",
       "      <td>1d604da9-9a81-4ba9-80c2-de3375d59b40</td>\n",
       "      <td>3dc9bb2d-5d66-3e61-bf9a-e234c6433577</td>\n",
       "      <td>bb17e691-262b-3546-93d5-d88e7de93246</td>\n",
       "      <td>b1c428d6-4f07-31e0-90f0-68ffa6ff8c76</td>\n",
       "      <td>wellness</td>\n",
       "      <td>162673000</td>\n",
       "      <td>General examination of patient (procedure)</td>\n",
       "      <td>129.16</td>\n",
       "      <td>129.16</td>\n",
       "      <td>0.00</td>\n",
       "      <td>NaN</td>\n",
       "      <td>NaN</td>\n",
       "    </tr>\n",
       "    <tr>\n",
       "      <th>4</th>\n",
       "      <td>dae2b7cb-1316-4b78-954f-fa610a6c6d0e</td>\n",
       "      <td>2010-07-27T12:58:08Z</td>\n",
       "      <td>2010-07-27T13:28:08Z</td>\n",
       "      <td>10339b10-3cd1-4ac3-ac13-ec26728cb592</td>\n",
       "      <td>b03dba4f-892f-365c-bfd1-bfcfa7a98d5d</td>\n",
       "      <td>7ed6b84a-b847-3744-9d42-15c42297a0c2</td>\n",
       "      <td>d47b3510-2895-3b70-9897-342d681c769d</td>\n",
       "      <td>wellness</td>\n",
       "      <td>162673000</td>\n",
       "      <td>General examination of patient (procedure)</td>\n",
       "      <td>129.16</td>\n",
       "      <td>129.16</td>\n",
       "      <td>129.16</td>\n",
       "      <td>NaN</td>\n",
       "      <td>NaN</td>\n",
       "    </tr>\n",
       "  </tbody>\n",
       "</table>\n",
       "</div>"
      ],
      "text/plain": [
       "                                     Id                 START  \\\n",
       "0  d0c40d10-8d87-447e-836e-99d26ad52ea5  2010-01-23T17:45:28Z   \n",
       "1  e88bc3a9-007c-405e-aabc-792a38f4aa2b  2012-01-23T17:45:28Z   \n",
       "2  8f104aa7-4ca9-4473-885a-bba2437df588  2001-05-01T15:02:18Z   \n",
       "3  b85c339a-6076-43ed-b9d0-9cf013dec49d  2011-07-28T15:02:18Z   \n",
       "4  dae2b7cb-1316-4b78-954f-fa610a6c6d0e  2010-07-27T12:58:08Z   \n",
       "\n",
       "                   STOP                               PATIENT  \\\n",
       "0  2010-01-23T18:10:28Z  034e9e3b-2def-4559-bb2a-7850888ae060   \n",
       "1  2012-01-23T18:00:28Z  034e9e3b-2def-4559-bb2a-7850888ae060   \n",
       "2  2001-05-01T15:17:18Z  1d604da9-9a81-4ba9-80c2-de3375d59b40   \n",
       "3  2011-07-28T15:17:18Z  1d604da9-9a81-4ba9-80c2-de3375d59b40   \n",
       "4  2010-07-27T13:28:08Z  10339b10-3cd1-4ac3-ac13-ec26728cb592   \n",
       "\n",
       "                           ORGANIZATION                              PROVIDER  \\\n",
       "0  e002090d-4e92-300e-b41e-7d1f21dee4c6  e6283e46-fd81-3611-9459-0edb1c3da357   \n",
       "1  772ee193-bb9f-30eb-9939-21e86c8e4da5  6f1d59a7-a5bd-3cf9-9671-5bad2f351c28   \n",
       "2  5d4b9df1-93ae-3bc9-b680-03249990e558  af01a385-31d3-3c77-8fdb-2867fe88df2f   \n",
       "3  3dc9bb2d-5d66-3e61-bf9a-e234c6433577  bb17e691-262b-3546-93d5-d88e7de93246   \n",
       "4  b03dba4f-892f-365c-bfd1-bfcfa7a98d5d  7ed6b84a-b847-3744-9d42-15c42297a0c2   \n",
       "\n",
       "                                  PAYER ENCOUNTERCLASS       CODE  \\\n",
       "0  6e2f1a2d-27bd-3701-8d08-dae202c58632     ambulatory  185345009   \n",
       "1  6e2f1a2d-27bd-3701-8d08-dae202c58632       wellness  162673000   \n",
       "2  b1c428d6-4f07-31e0-90f0-68ffa6ff8c76     ambulatory  185345009   \n",
       "3  b1c428d6-4f07-31e0-90f0-68ffa6ff8c76       wellness  162673000   \n",
       "4  d47b3510-2895-3b70-9897-342d681c769d       wellness  162673000   \n",
       "\n",
       "                                  DESCRIPTION  BASE_ENCOUNTER_COST  \\\n",
       "0                       Encounter for symptom               129.16   \n",
       "1  General examination of patient (procedure)               129.16   \n",
       "2                       Encounter for symptom               129.16   \n",
       "3  General examination of patient (procedure)               129.16   \n",
       "4  General examination of patient (procedure)               129.16   \n",
       "\n",
       "   TOTAL_CLAIM_COST  PAYER_COVERAGE  REASONCODE            REASONDESCRIPTION  \n",
       "0            129.16           54.16  10509002.0  Acute bronchitis (disorder)  \n",
       "1            129.16          129.16         NaN                          NaN  \n",
       "2            129.16            0.00  36971009.0         Sinusitis (disorder)  \n",
       "3            129.16            0.00         NaN                          NaN  \n",
       "4            129.16          129.16         NaN                          NaN  "
      ]
     },
     "execution_count": 6,
     "metadata": {},
     "output_type": "execute_result"
    }
   ],
   "source": [
    "#Sample data - encounters\n",
    "encounters.head(5)"
   ]
  },
  {
   "cell_type": "code",
   "execution_count": 7,
   "id": "8c3f3649",
   "metadata": {},
   "outputs": [
    {
     "data": {
      "text/plain": [
       "Id                      object\n",
       "START                   object\n",
       "STOP                    object\n",
       "PATIENT                 object\n",
       "ORGANIZATION            object\n",
       "PROVIDER                object\n",
       "PAYER                   object\n",
       "ENCOUNTERCLASS          object\n",
       "CODE                     int64\n",
       "DESCRIPTION             object\n",
       "BASE_ENCOUNTER_COST    float64\n",
       "TOTAL_CLAIM_COST       float64\n",
       "PAYER_COVERAGE         float64\n",
       "REASONCODE             float64\n",
       "REASONDESCRIPTION       object\n",
       "dtype: object"
      ]
     },
     "execution_count": 7,
     "metadata": {},
     "output_type": "execute_result"
    }
   ],
   "source": [
    "#Data types - encounters\n",
    "encounters.dtypes"
   ]
  },
  {
   "cell_type": "code",
   "execution_count": 8,
   "id": "755fbae6",
   "metadata": {},
   "outputs": [],
   "source": [
    "#Extract necessary fields for modeling\n",
    "df = encounters[['ENCOUNTERCLASS','DESCRIPTION']]"
   ]
  },
  {
   "cell_type": "code",
   "execution_count": 9,
   "id": "b972a5b8",
   "metadata": {},
   "outputs": [
    {
     "name": "stderr",
     "output_type": "stream",
     "text": [
      "C:\\ProgramData\\Anaconda3\\lib\\site-packages\\pandas\\core\\frame.py:5039: SettingWithCopyWarning: \n",
      "A value is trying to be set on a copy of a slice from a DataFrame\n",
      "\n",
      "See the caveats in the documentation: https://pandas.pydata.org/pandas-docs/stable/user_guide/indexing.html#returning-a-view-versus-a-copy\n",
      "  return super().rename(\n"
     ]
    },
    {
     "data": {
      "text/html": [
       "<div>\n",
       "<style scoped>\n",
       "    .dataframe tbody tr th:only-of-type {\n",
       "        vertical-align: middle;\n",
       "    }\n",
       "\n",
       "    .dataframe tbody tr th {\n",
       "        vertical-align: top;\n",
       "    }\n",
       "\n",
       "    .dataframe thead th {\n",
       "        text-align: right;\n",
       "    }\n",
       "</style>\n",
       "<table border=\"1\" class=\"dataframe\">\n",
       "  <thead>\n",
       "    <tr style=\"text-align: right;\">\n",
       "      <th></th>\n",
       "      <th>Category</th>\n",
       "      <th>Message</th>\n",
       "    </tr>\n",
       "  </thead>\n",
       "  <tbody>\n",
       "    <tr>\n",
       "      <th>0</th>\n",
       "      <td>ambulatory</td>\n",
       "      <td>Encounter for symptom</td>\n",
       "    </tr>\n",
       "    <tr>\n",
       "      <th>1</th>\n",
       "      <td>wellness</td>\n",
       "      <td>General examination of patient (procedure)</td>\n",
       "    </tr>\n",
       "    <tr>\n",
       "      <th>2</th>\n",
       "      <td>ambulatory</td>\n",
       "      <td>Encounter for symptom</td>\n",
       "    </tr>\n",
       "    <tr>\n",
       "      <th>3</th>\n",
       "      <td>wellness</td>\n",
       "      <td>General examination of patient (procedure)</td>\n",
       "    </tr>\n",
       "    <tr>\n",
       "      <th>4</th>\n",
       "      <td>wellness</td>\n",
       "      <td>General examination of patient (procedure)</td>\n",
       "    </tr>\n",
       "    <tr>\n",
       "      <th>...</th>\n",
       "      <td>...</td>\n",
       "      <td>...</td>\n",
       "    </tr>\n",
       "    <tr>\n",
       "      <th>53341</th>\n",
       "      <td>wellness</td>\n",
       "      <td>General examination of patient (procedure)</td>\n",
       "    </tr>\n",
       "    <tr>\n",
       "      <th>53342</th>\n",
       "      <td>wellness</td>\n",
       "      <td>General examination of patient (procedure)</td>\n",
       "    </tr>\n",
       "    <tr>\n",
       "      <th>53343</th>\n",
       "      <td>wellness</td>\n",
       "      <td>General examination of patient (procedure)</td>\n",
       "    </tr>\n",
       "    <tr>\n",
       "      <th>53344</th>\n",
       "      <td>wellness</td>\n",
       "      <td>General examination of patient (procedure)</td>\n",
       "    </tr>\n",
       "    <tr>\n",
       "      <th>53345</th>\n",
       "      <td>wellness</td>\n",
       "      <td>General examination of patient (procedure)</td>\n",
       "    </tr>\n",
       "  </tbody>\n",
       "</table>\n",
       "<p>53346 rows × 2 columns</p>\n",
       "</div>"
      ],
      "text/plain": [
       "         Category                                     Message\n",
       "0      ambulatory                       Encounter for symptom\n",
       "1        wellness  General examination of patient (procedure)\n",
       "2      ambulatory                       Encounter for symptom\n",
       "3        wellness  General examination of patient (procedure)\n",
       "4        wellness  General examination of patient (procedure)\n",
       "...           ...                                         ...\n",
       "53341    wellness  General examination of patient (procedure)\n",
       "53342    wellness  General examination of patient (procedure)\n",
       "53343    wellness  General examination of patient (procedure)\n",
       "53344    wellness  General examination of patient (procedure)\n",
       "53345    wellness  General examination of patient (procedure)\n",
       "\n",
       "[53346 rows x 2 columns]"
      ]
     },
     "metadata": {},
     "output_type": "display_data"
    }
   ],
   "source": [
    "#Rename header\n",
    "# create a dictionary, key = old name, value = new name\n",
    "dict = {'ENCOUNTERCLASS': 'Category', 'DESCRIPTION': 'Message'}\n",
    "# call rename () method\n",
    "df.rename(columns=dict,inplace=True)\n",
    "# print Data frame after rename columns\n",
    "display(df)"
   ]
  },
  {
   "cell_type": "code",
   "execution_count": 10,
   "id": "fed43df0",
   "metadata": {},
   "outputs": [
    {
     "data": {
      "text/plain": [
       "(53346, 2)"
      ]
     },
     "execution_count": 10,
     "metadata": {},
     "output_type": "execute_result"
    }
   ],
   "source": [
    "df.shape"
   ]
  },
  {
   "cell_type": "code",
   "execution_count": 11,
   "id": "089834c0",
   "metadata": {},
   "outputs": [
    {
     "data": {
      "text/plain": [
       "205200"
      ]
     },
     "execution_count": 11,
     "metadata": {},
     "output_type": "execute_result"
    }
   ],
   "source": [
    "df.index = range(53346)\n",
    "df['Message'].apply(lambda x: len(x.split(' '))).sum()"
   ]
  },
  {
   "cell_type": "code",
   "execution_count": 12,
   "id": "caed34eb",
   "metadata": {},
   "outputs": [
    {
     "name": "stderr",
     "output_type": "stream",
     "text": [
      "C:\\ProgramData\\Anaconda3\\lib\\site-packages\\seaborn\\_decorators.py:36: FutureWarning: Pass the following variables as keyword args: x, y. From version 0.12, the only valid positional argument will be `data`, and passing other arguments without an explicit keyword will result in an error or misinterpretation.\n",
      "  warnings.warn(\n"
     ]
    },
    {
     "data": {
      "image/png": "[encoded data removed]",
      "text/plain": [
       "<Figure size 864x288 with 1 Axes>"
      ]
     },
     "metadata": {
      "needs_background": "light"
     },
     "output_type": "display_data"
    }
   ],
   "source": [
    "#Data Visualization\n",
    "cnt_pro = df['Category'].value_counts()\n",
    "plt.figure(figsize=(12,4))\n",
    "sns.barplot(cnt_pro.index, cnt_pro.values, alpha=0.8)\n",
    "plt.ylabel('Number of Occurrences', fontsize=12)\n",
    "plt.xlabel('Category', fontsize=12)\n",
    "plt.xticks(rotation=90)\n",
    "plt.show();"
   ]
  },
  {
   "cell_type": "code",
   "execution_count": 13,
   "id": "df16192e",
   "metadata": {},
   "outputs": [
    {
     "name": "stdout",
     "output_type": "stream",
     "text": [
      "Encounter for symptom\n",
      "Message: ambulatory\n"
     ]
    }
   ],
   "source": [
    "#Sample messages\n",
    "def print_message(index):\n",
    "    example = df[df.index == index][['Message', 'Category']].values[0]\n",
    "    if len(example) > 0:\n",
    "        print(example[0])\n",
    "        print('Message:', example[1])\n",
    "print_message(12)"
   ]
  },
  {
   "cell_type": "code",
   "execution_count": 14,
   "id": "b7d76d6d",
   "metadata": {},
   "outputs": [
    {
     "name": "stdout",
     "output_type": "stream",
     "text": [
      "Encounter for symptom\n",
      "Message: ambulatory\n"
     ]
    }
   ],
   "source": [
    "print_message(0)"
   ]
  },
  {
   "cell_type": "code",
   "execution_count": 15,
   "id": "55cc02a6",
   "metadata": {},
   "outputs": [
    {
     "name": "stderr",
     "output_type": "stream",
     "text": [
      "C:\\Users\\OLAJID~1\\AppData\\Local\\Temp/ipykernel_10764/506405186.py:9: SettingWithCopyWarning: \n",
      "A value is trying to be set on a copy of a slice from a DataFrame.\n",
      "Try using .loc[row_indexer,col_indexer] = value instead\n",
      "\n",
      "See the caveats in the documentation: https://pandas.pydata.org/pandas-docs/stable/user_guide/indexing.html#returning-a-view-versus-a-copy\n",
      "  df['Message'] = df['Message'].apply(cleanText)\n"
     ]
    }
   ],
   "source": [
    "#Text Preprocessing Below we define a function to convert text to lower-case and strip punctuation/symbols from words\n",
    "def cleanText(text):\n",
    "    text = BeautifulSoup(text, \"lxml\").text\n",
    "    text = re.sub(r'\\|\\|\\|', r' ', text) \n",
    "    text = re.sub(r'http\\S+', r'<URL>', text)\n",
    "    text = text.lower()\n",
    "    text = text.replace('x', '')\n",
    "    return text\n",
    "df['Message'] = df['Message'].apply(cleanText)"
   ]
  },
  {
   "cell_type": "code",
   "execution_count": 16,
   "id": "382309a9",
   "metadata": {},
   "outputs": [
    {
     "name": "stderr",
     "output_type": "stream",
     "text": [
      "C:\\Users\\OLAJID~1\\AppData\\Local\\Temp/ipykernel_10764/304407695.py:2: SettingWithCopyWarning: \n",
      "A value is trying to be set on a copy of a slice from a DataFrame.\n",
      "Try using .loc[row_indexer,col_indexer] = value instead\n",
      "\n",
      "See the caveats in the documentation: https://pandas.pydata.org/pandas-docs/stable/user_guide/indexing.html#returning-a-view-versus-a-copy\n",
      "  df['Message'] = df['Message'].apply(cleanText)\n"
     ]
    },
    {
     "name": "stdout",
     "output_type": "stream",
     "text": [
      "Found 53346 unique tokens.\n"
     ]
    }
   ],
   "source": [
    "##Tokenization\n",
    "df['Message'] = df['Message'].apply(cleanText)\n",
    "train, test = train_test_split(df, test_size=0.000001 , random_state=42)\n",
    "def tokenize_text(text):\n",
    "    tokens = []\n",
    "    for sent in nltk.sent_tokenize(text):\n",
    "        for word in nltk.word_tokenize(sent):\n",
    "            #if len(word) < 0:\n",
    "            if len(word) <= 0:\n",
    "                continue\n",
    "            tokens.append(word.lower())\n",
    "    return tokens\n",
    "train_tagged = train.apply(\n",
    "    lambda r: TaggedDocument(words=tokenize_text(r['Message']), tags=[r.Category]), axis=1)\n",
    "test_tagged = test.apply(\n",
    "    lambda r: TaggedDocument(words=tokenize_text(r['Message']), tags=[r.Category]), axis=1)\n",
    "\n",
    "# The maximum number of words to be used. (most frequent)\n",
    "max_fatures = 500000\n",
    "\n",
    "# Max number of words in each complaint.\n",
    "MAX_SEQUENCE_LENGTH = 50\n",
    "\n",
    "#tokenizer = Tokenizer(num_words=max_fatures, split=' ')\n",
    "tokenizer = Tokenizer(num_words=max_fatures, split=' ', filters='!\"#$%&()*+,-./:;<=>?@[\\]^_`{|}~', lower=True)\n",
    "tokenizer.fit_on_texts(df['Message'].values)\n",
    "X = tokenizer.texts_to_sequences(df['Message'].values)\n",
    "X = pad_sequences(X)\n",
    "print('Found %s unique tokens.' % len(X))"
   ]
  },
  {
   "cell_type": "code",
   "execution_count": 17,
   "id": "bf6c4457",
   "metadata": {},
   "outputs": [
    {
     "name": "stdout",
     "output_type": "stream",
     "text": [
      "Shape of data tensor: (53346, 50)\n"
     ]
    }
   ],
   "source": [
    "#Tokenization - continued\n",
    "X = tokenizer.texts_to_sequences(df['Message'].values)\n",
    "X = pad_sequences(X, maxlen=MAX_SEQUENCE_LENGTH)\n",
    "print('Shape of data tensor:', X.shape)"
   ]
  },
  {
   "cell_type": "code",
   "execution_count": 18,
   "id": "84debebc",
   "metadata": {},
   "outputs": [
    {
     "data": {
      "text/plain": [
       "array([TaggedDocument(words=['follow-up', 'encounter'], tags=['ambulatory']),\n",
       "       TaggedDocument(words=['consultation', 'for', 'treatment'], tags=['outpatient']),\n",
       "       TaggedDocument(words=['patient', 'encounter', 'procedure'], tags=['outpatient']),\n",
       "       ...,\n",
       "       TaggedDocument(words=['follow-up', 'encounter'], tags=['ambulatory']),\n",
       "       TaggedDocument(words=['general', 'eamination', 'of', 'patient', '(', 'procedure', ')'], tags=['wellness']),\n",
       "       TaggedDocument(words=['general', 'eamination', 'of', 'patient', '(', 'procedure', ')'], tags=['wellness'])],\n",
       "      dtype=object)"
      ]
     },
     "execution_count": 18,
     "metadata": {},
     "output_type": "execute_result"
    }
   ],
   "source": [
    "#train_tagged.values\n",
    "train_tagged.values"
   ]
  },
  {
   "cell_type": "code",
   "execution_count": 19,
   "id": "19a62a38",
   "metadata": {},
   "outputs": [
    {
     "name": "stderr",
     "output_type": "stream",
     "text": [
      "100%|██████████| 53345/53345 [00:00<00:00, 2681284.49it/s]\n"
     ]
    }
   ],
   "source": [
    "#Tagging\n",
    "d2v_model = Doc2Vec(dm=1, dm_mean=1, window=8, min_count=1, workers=1, alpha=0.065, min_alpha=0.065)\n",
    "d2v_model.build_vocab([x for x in tqdm(train_tagged.values)])"
   ]
  },
  {
   "cell_type": "code",
   "execution_count": 20,
   "id": "4f04654f",
   "metadata": {},
   "outputs": [
    {
     "name": "stdout",
     "output_type": "stream",
     "text": [
      "Doc2Vec(dm/m,d100,n5,w8,s0.001)\n"
     ]
    }
   ],
   "source": [
    "print(d2v_model)"
   ]
  },
  {
   "cell_type": "code",
   "execution_count": 21,
   "id": "fbda32c3",
   "metadata": {},
   "outputs": [
    {
     "data": {
      "text/plain": [
       "90"
      ]
     },
     "execution_count": 21,
     "metadata": {},
     "output_type": "execute_result"
    }
   ],
   "source": [
    "#Length of Model\n",
    "len(d2v_model.wv)"
   ]
  },
  {
   "cell_type": "code",
   "execution_count": 22,
   "id": "02e07e41",
   "metadata": {},
   "outputs": [
    {
     "name": "stderr",
     "output_type": "stream",
     "text": [
      "C:\\Users\\OLAJID~1\\AppData\\Local\\Temp/ipykernel_10764/2431858452.py:3: DeprecationWarning: Call to deprecated `docvecs` (The `docvecs` property has been renamed `dv`.).\n",
      "  for i, vec in enumerate(d2v_model.docvecs.vectors):\n"
     ]
    }
   ],
   "source": [
    "# save the vectors in a new matrix\n",
    "embedding_matrix = np.zeros((len(d2v_model.wv)+ 1, 20))\n",
    "for i, vec in enumerate(d2v_model.docvecs.vectors):\n",
    "    while i in vec <= 1000:\n",
    "    #print(i)\n",
    "    #print(model.docvecs)\n",
    "          embedding_matrix[i]=vec\n",
    "    #print(vec)\n",
    "    #print(vec[i])"
   ]
  },
  {
   "cell_type": "code",
   "execution_count": 23,
   "id": "5d62331d",
   "metadata": {},
   "outputs": [
    {
     "data": {
      "text/plain": [
       "[('procedure', 0.28974205255508423),\n",
       " ('psychiatric', 0.285995215177536),\n",
       " ('mental', 0.26792022585868835),\n",
       " ('telemedicine', 0.21630819141864777),\n",
       " ('detoification', 0.2118249237537384),\n",
       " ('non-urgent', 0.1878708153963089),\n",
       " ('outpatient', 0.18286840617656708),\n",
       " ('check', 0.182259202003479),\n",
       " ('disorder', 0.16662032902240753),\n",
       " ('regime/therapy', 0.16585460305213928)]"
      ]
     },
     "execution_count": 23,
     "metadata": {},
     "output_type": "execute_result"
    }
   ],
   "source": [
    "#Similarity Scores - 1\n",
    "d2v_model.wv.most_similar(positive=['infarction'], topn=10)"
   ]
  },
  {
   "cell_type": "code",
   "execution_count": 24,
   "id": "b8d3acb1",
   "metadata": {},
   "outputs": [
    {
     "data": {
      "text/plain": [
       "[('surgical', 0.2176118642091751),\n",
       " ('mental', 0.1883985847234726),\n",
       " ('symptom', 0.18406276404857635),\n",
       " ('psychiatric', 0.17547710239887238),\n",
       " ('thoracic', 0.17139281332492828),\n",
       " ('clinic', 0.16693153977394104),\n",
       " ('infarction', 0.1666203737258911),\n",
       " ('telephone', 0.14498065412044525),\n",
       " ('procedure', 0.1403549611568451),\n",
       " ('outpatient', 0.13257955014705658)]"
      ]
     },
     "execution_count": 24,
     "metadata": {},
     "output_type": "execute_result"
    }
   ],
   "source": [
    "#Similarity Scores - 2\n",
    "d2v_model.wv.most_similar(positive=['disorder'], topn=10)"
   ]
  },
  {
   "cell_type": "code",
   "execution_count": 25,
   "id": "bee8035e",
   "metadata": {},
   "outputs": [
    {
     "name": "stdout",
     "output_type": "stream",
     "text": [
      "Model: \"sequential\"\n",
      "_________________________________________________________________\n",
      " Layer (type)                Output Shape              Param #   \n",
      "=================================================================\n",
      " embedding (Embedding)       (None, 50, 20)            1820      \n",
      "                                                                 \n",
      " lstm (LSTM)                 (None, 50)                14200     \n",
      "                                                                 \n",
      " dense (Dense)               (None, 6)                 306       \n",
      "                                                                 \n",
      "=================================================================\n",
      "Total params: 16,326\n",
      "Trainable params: 16,326\n",
      "Non-trainable params: 0\n",
      "_________________________________________________________________\n"
     ]
    }
   ],
   "source": [
    "#Create the LSTM Model\n",
    "#init layer\n",
    "model = Sequential()\n",
    "\n",
    "#embed word vectors\n",
    "model.add(Embedding(len(d2v_model.wv)+1,20,input_length=X.shape[1],weights=[embedding_matrix],trainable=True))\n",
    "\n",
    "#learn the correlations\n",
    "def split_input(sequence):\n",
    "     return sequence[:-1], tf.reshape(sequence[1:], (-1,1))\n",
    "model.add(LSTM(50,return_sequences=False))\n",
    "model.add(Dense(6,activation=\"softmax\"))\n",
    "\n",
    "# output model skeleton\n",
    "model.summary()\n",
    "model.compile(optimizer=\"adam\",loss=\"categorical_crossentropy\",metrics=['acc'])"
   ]
  },
  {
   "cell_type": "code",
   "execution_count": 26,
   "id": "cfb2f006",
   "metadata": {
    "scrolled": true
   },
   "outputs": [
    {
     "name": "stdout",
     "output_type": "stream",
     "text": [
      "(45344, 50) (45344, 6)\n",
      "(8002, 50) (8002, 6)\n"
     ]
    }
   ],
   "source": [
    "#Training and Testing Datasets - 85%/15% split\n",
    "Y = pd.get_dummies(df['Category']).values\n",
    "X_train, X_test, Y_train, Y_test = train_test_split(X,Y, test_size = 0.15, shuffle=False)\n",
    "#X_train, X_test, Y_train, Y_test = train_test_split(X,Y, test_size = 0.15, random_state = 42)\n",
    "print(X_train.shape,Y_train.shape)\n",
    "print(X_test.shape,Y_test.shape)"
   ]
  },
  {
   "cell_type": "code",
   "execution_count": 27,
   "id": "1758452b",
   "metadata": {
    "scrolled": true
   },
   "outputs": [
    {
     "name": "stdout",
     "output_type": "stream",
     "text": [
      "Epoch 1/50\n",
      "1375/1375 - 19s - loss: 0.2615 - acc: 0.9090 - 19s/epoch - 14ms/step\n",
      "Epoch 2/50\n",
      "1375/1375 - 17s - loss: 0.1132 - acc: 0.9527 - 17s/epoch - 12ms/step\n",
      "Epoch 3/50\n",
      "1375/1375 - 17s - loss: 0.1113 - acc: 0.9532 - 17s/epoch - 12ms/step\n",
      "Epoch 4/50\n",
      "1375/1375 - 17s - loss: 0.1100 - acc: 0.9534 - 17s/epoch - 12ms/step\n",
      "Epoch 5/50\n",
      "1375/1375 - 21s - loss: 0.1090 - acc: 0.9536 - 21s/epoch - 15ms/step\n",
      "Epoch 6/50\n",
      "1375/1375 - 19s - loss: 0.1083 - acc: 0.9538 - 19s/epoch - 13ms/step\n",
      "Epoch 7/50\n",
      "1375/1375 - 17s - loss: 0.1079 - acc: 0.9538 - 17s/epoch - 13ms/step\n",
      "Epoch 8/50\n",
      "1375/1375 - 17s - loss: 0.1077 - acc: 0.9538 - 17s/epoch - 13ms/step\n",
      "Epoch 9/50\n",
      "1375/1375 - 17s - loss: 0.1076 - acc: 0.9538 - 17s/epoch - 13ms/step\n",
      "Epoch 10/50\n",
      "1375/1375 - 20s - loss: 0.1077 - acc: 0.9538 - 20s/epoch - 14ms/step\n",
      "Epoch 11/50\n",
      "1375/1375 - 18s - loss: 0.1074 - acc: 0.9536 - 18s/epoch - 13ms/step\n",
      "Epoch 12/50\n",
      "1375/1375 - 20s - loss: 0.1073 - acc: 0.9540 - 20s/epoch - 14ms/step\n",
      "Epoch 13/50\n",
      "1375/1375 - 18s - loss: 0.1073 - acc: 0.9540 - 18s/epoch - 13ms/step\n",
      "Epoch 14/50\n",
      "1375/1375 - 17s - loss: 0.1074 - acc: 0.9539 - 17s/epoch - 13ms/step\n",
      "Epoch 15/50\n",
      "1375/1375 - 18s - loss: 0.1072 - acc: 0.9540 - 18s/epoch - 13ms/step\n",
      "Epoch 16/50\n",
      "1375/1375 - 18s - loss: 0.1084 - acc: 0.9533 - 18s/epoch - 13ms/step\n",
      "Epoch 17/50\n",
      "1375/1375 - 17s - loss: 0.1071 - acc: 0.9540 - 17s/epoch - 13ms/step\n",
      "Epoch 18/50\n",
      "1375/1375 - 18s - loss: 0.1071 - acc: 0.9540 - 18s/epoch - 13ms/step\n",
      "Epoch 19/50\n",
      "1375/1375 - 24s - loss: 0.1073 - acc: 0.9540 - 24s/epoch - 18ms/step\n",
      "Epoch 20/50\n",
      "1375/1375 - 18s - loss: 0.1072 - acc: 0.9540 - 18s/epoch - 13ms/step\n",
      "Epoch 21/50\n",
      "1375/1375 - 25s - loss: 0.1070 - acc: 0.9539 - 25s/epoch - 18ms/step\n",
      "Epoch 22/50\n",
      "1375/1375 - 18s - loss: 0.1072 - acc: 0.9540 - 18s/epoch - 13ms/step\n",
      "Epoch 23/50\n",
      "1375/1375 - 33s - loss: 0.1071 - acc: 0.9540 - 33s/epoch - 24ms/step\n",
      "Epoch 24/50\n",
      "1375/1375 - 23s - loss: 0.1071 - acc: 0.9540 - 23s/epoch - 16ms/step\n",
      "Epoch 25/50\n",
      "1375/1375 - 25s - loss: 0.1072 - acc: 0.9540 - 25s/epoch - 18ms/step\n",
      "Epoch 26/50\n",
      "1375/1375 - 23s - loss: 0.1071 - acc: 0.9540 - 23s/epoch - 16ms/step\n",
      "Epoch 27/50\n",
      "1375/1375 - 21s - loss: 0.1072 - acc: 0.9540 - 21s/epoch - 15ms/step\n",
      "Epoch 28/50\n",
      "1375/1375 - 22s - loss: 0.1072 - acc: 0.9540 - 22s/epoch - 16ms/step\n",
      "Epoch 29/50\n",
      "1375/1375 - 25s - loss: 0.1071 - acc: 0.9540 - 25s/epoch - 18ms/step\n",
      "Epoch 30/50\n",
      "1375/1375 - 21s - loss: 0.1070 - acc: 0.9540 - 21s/epoch - 15ms/step\n",
      "Epoch 31/50\n",
      "1375/1375 - 20s - loss: 0.1070 - acc: 0.9540 - 20s/epoch - 15ms/step\n",
      "Epoch 32/50\n",
      "1375/1375 - 21s - loss: 0.1071 - acc: 0.9540 - 21s/epoch - 15ms/step\n",
      "Epoch 33/50\n",
      "1375/1375 - 21s - loss: 0.1070 - acc: 0.9540 - 21s/epoch - 15ms/step\n",
      "Epoch 34/50\n",
      "1375/1375 - 23s - loss: 0.1070 - acc: 0.9540 - 23s/epoch - 17ms/step\n",
      "Epoch 35/50\n",
      "1375/1375 - 27s - loss: 0.1070 - acc: 0.9540 - 27s/epoch - 20ms/step\n",
      "Epoch 36/50\n",
      "1375/1375 - 21s - loss: 0.1069 - acc: 0.9540 - 21s/epoch - 16ms/step\n",
      "Epoch 37/50\n",
      "1375/1375 - 22s - loss: 0.1070 - acc: 0.9540 - 22s/epoch - 16ms/step\n",
      "Epoch 38/50\n",
      "1375/1375 - 31s - loss: 0.1070 - acc: 0.9540 - 31s/epoch - 22ms/step\n",
      "Epoch 39/50\n",
      "1375/1375 - 47s - loss: 0.1069 - acc: 0.9540 - 47s/epoch - 34ms/step\n",
      "Epoch 40/50\n",
      "1375/1375 - 128s - loss: 0.1070 - acc: 0.9540 - 128s/epoch - 93ms/step\n",
      "Epoch 41/50\n",
      "1375/1375 - 17s - loss: 0.1070 - acc: 0.9540 - 17s/epoch - 13ms/step\n",
      "Epoch 42/50\n",
      "1375/1375 - 17s - loss: 0.1070 - acc: 0.9540 - 17s/epoch - 12ms/step\n",
      "Epoch 43/50\n",
      "1375/1375 - 30s - loss: 0.1070 - acc: 0.9540 - 30s/epoch - 22ms/step\n",
      "Epoch 44/50\n",
      "1375/1375 - 17s - loss: 0.1071 - acc: 0.9540 - 17s/epoch - 12ms/step\n",
      "Epoch 45/50\n",
      "1375/1375 - 19s - loss: 0.1068 - acc: 0.9540 - 19s/epoch - 13ms/step\n",
      "Epoch 46/50\n",
      "1375/1375 - 17s - loss: 0.1069 - acc: 0.9540 - 17s/epoch - 12ms/step\n",
      "Epoch 47/50\n",
      "1375/1375 - 18s - loss: 0.1069 - acc: 0.9540 - 18s/epoch - 13ms/step\n",
      "Epoch 48/50\n",
      "1375/1375 - 17s - loss: 0.1070 - acc: 0.9540 - 17s/epoch - 12ms/step\n",
      "Epoch 49/50\n",
      "1375/1375 - 17s - loss: 0.1070 - acc: 0.9540 - 17s/epoch - 12ms/step\n",
      "Epoch 50/50\n",
      "1375/1375 - 23s - loss: 0.1070 - acc: 0.9540 - 23s/epoch - 17ms/step\n"
     ]
    }
   ],
   "source": [
    "#Fitting and running model\n",
    "batch_size = 33\n",
    "history=model.fit(X_train, Y_train, epochs =50, batch_size=batch_size, verbose = 2)"
   ]
  },
  {
   "cell_type": "code",
   "execution_count": 28,
   "id": "99ac65a8",
   "metadata": {},
   "outputs": [
    {
     "data": {
      "image/png": "[encoded data removed]",
      "text/plain": [
       "<Figure size 432x288 with 1 Axes>"
      ]
     },
     "metadata": {
      "needs_background": "light"
     },
     "output_type": "display_data"
    },
    {
     "data": {
      "image/png": "[encoded data removed]",
      "text/plain": [
       "<Figure size 432x288 with 1 Axes>"
      ]
     },
     "metadata": {
      "needs_background": "light"
     },
     "output_type": "display_data"
    },
    {
     "data": {
      "text/plain": [
       "<Figure size 432x288 with 0 Axes>"
      ]
     },
     "metadata": {},
     "output_type": "display_data"
    }
   ],
   "source": [
    "#Summarize history for accuracy\n",
    "plt.plot(history.history['acc'])\n",
    "plt.title('Model Accuracy')\n",
    "plt.ylabel('Accuracy')\n",
    "plt.xlabel('Epochs')\n",
    "plt.legend(['train', 'test'], loc='lower right')\n",
    "plt.show()\n",
    "plt.savefig('model_accuracy.png')\n",
    "\n",
    "#Summarize history for loss\n",
    "plt.plot(history.history['loss'])\n",
    "plt.title('Model Loss')\n",
    "plt.ylabel('Loss')\n",
    "plt.xlabel('Epochs')\n",
    "plt.legend(['train', 'test'], loc='upper right')\n",
    "plt.show()\n",
    "plt.savefig('model_loss.png')"
   ]
  },
  {
   "cell_type": "code",
   "execution_count": 30,
   "id": "219f8a29",
   "metadata": {},
   "outputs": [
    {
     "name": "stdout",
     "output_type": "stream",
     "text": [
      "1417/1417 - 6s - loss: 0.1066 - acc: 0.9540 - 6s/epoch - 4ms/step\n",
      "251/251 - 1s - loss: 0.1262 - acc: 0.9481 - 1s/epoch - 5ms/step\n",
      "Train: 0.954, Test: 0.9481\n"
     ]
    }
   ],
   "source": [
    "# evaluate the model\n",
    "_, train_acc = model.evaluate(X_train, Y_train, verbose=2)\n",
    "_, test_acc = model.evaluate(X_test, Y_test, verbose=2)\n",
    "print('Train: %.3f, Test: %.4f' % (train_acc, test_acc))"
   ]
  },
  {
   "cell_type": "code",
   "execution_count": 31,
   "id": "03a2d628",
   "metadata": {},
   "outputs": [
    {
     "name": "stdout",
     "output_type": "stream",
     "text": [
      "[[7.2936821e-01 8.3356127e-07 1.1126815e-03 2.6951829e-01 5.4130095e-10\n",
      "  9.8871089e-10]\n",
      " [7.2936821e-01 8.3356127e-07 1.1126815e-03 2.6951829e-01 5.4130095e-10\n",
      "  9.8871089e-10]\n",
      " [7.2936821e-01 8.3356127e-07 1.1126815e-03 2.6951829e-01 5.4130095e-10\n",
      "  9.8871089e-10]\n",
      " ...\n",
      " [6.6102248e-09 9.3480634e-10 6.1634226e-11 5.6088054e-09 6.7297284e-10\n",
      "  1.0000000e+00]\n",
      " [6.6102248e-09 9.3480634e-10 6.1634226e-11 5.6088054e-09 6.7297284e-10\n",
      "  1.0000000e+00]\n",
      " [6.6102248e-09 9.3480634e-10 6.1634226e-11 5.6088054e-09 6.7297284e-10\n",
      "  1.0000000e+00]]\n"
     ]
    }
   ],
   "source": [
    "# predict classes+probability for test set\n",
    "yhat_classes_test = model.predict(X_test)\n",
    "print(yhat_classes_test)"
   ]
  },
  {
   "cell_type": "code",
   "execution_count": 32,
   "id": "01bc8789",
   "metadata": {},
   "outputs": [
    {
     "name": "stdout",
     "output_type": "stream",
     "text": [
      "[[9.4707608e-01 4.7720825e-08 4.6458754e-06 5.2919224e-02 1.6968349e-09\n",
      "  6.9242739e-10]\n",
      " [6.6102248e-09 9.3480634e-10 6.1634226e-11 5.6088054e-09 6.7297284e-10\n",
      "  1.0000000e+00]\n",
      " [9.4707608e-01 4.7720825e-08 4.6458754e-06 5.2919224e-02 1.6968349e-09\n",
      "  6.9242739e-10]\n",
      " ...\n",
      " [7.2936821e-01 8.3356127e-07 1.1126815e-03 2.6951829e-01 5.4130095e-10\n",
      "  9.8871089e-10]\n",
      " [7.2936821e-01 8.3356127e-07 1.1126815e-03 2.6951829e-01 5.4130095e-10\n",
      "  9.8871089e-10]\n",
      " [7.2936821e-01 8.3356127e-07 1.1126815e-03 2.6951829e-01 5.4130095e-10\n",
      "  9.8871089e-10]]\n"
     ]
    }
   ],
   "source": [
    "# predict classes+probability for train set\n",
    "yhat_classes_train = model.predict(X_train)\n",
    "print(yhat_classes_train)"
   ]
  },
  {
   "cell_type": "code",
   "execution_count": 33,
   "id": "1f945551",
   "metadata": {},
   "outputs": [
    {
     "data": {
      "text/plain": [
       "array([0, 0, 0, ..., 5, 5, 5], dtype=int64)"
      ]
     },
     "execution_count": 33,
     "metadata": {},
     "output_type": "execute_result"
    }
   ],
   "source": [
    "pred_test_labels=np.argmax(yhat_classes_test, axis=1)\n",
    "pred_test_labels"
   ]
  },
  {
   "cell_type": "code",
   "execution_count": 34,
   "id": "6fb18176",
   "metadata": {},
   "outputs": [
    {
     "data": {
      "text/plain": [
       "array([0, 5, 0, ..., 0, 0, 0], dtype=int64)"
      ]
     },
     "execution_count": 34,
     "metadata": {},
     "output_type": "execute_result"
    }
   ],
   "source": [
    "pred_train_labels=np.argmax(yhat_classes_train, axis=1)\n",
    "pred_train_labels"
   ]
  },
  {
   "cell_type": "code",
   "execution_count": 35,
   "id": "cdec3e0f",
   "metadata": {},
   "outputs": [
    {
     "name": "stdout",
     "output_type": "stream",
     "text": [
      "237/237 [==============================] - 1s 5ms/step - loss: 0.1280 - acc: 0.9471\n",
      "score: 0.13\n",
      "acc: 0.95\n"
     ]
    }
   ],
   "source": [
    "validation_size = 200\n",
    "\n",
    "X_validate = X_test[-validation_size:]\n",
    "Y_validate = Y_test[-validation_size:]\n",
    "X_test = X_test[:-validation_size]\n",
    "Y_test = Y_test[:-validation_size]\n",
    "score,acc = model.evaluate(X_test, Y_test, verbose = 1, batch_size = batch_size)\n",
    "\n",
    "print(\"score: %.2f\" % (score))\n",
    "print(\"acc: %.2f\" % (acc))"
   ]
  },
  {
   "cell_type": "code",
   "execution_count": 36,
   "id": "56ec1d5a",
   "metadata": {},
   "outputs": [
    {
     "name": "stdout",
     "output_type": "stream",
     "text": [
      "      0\n",
      "0     0\n",
      "1     0\n",
      "2     0\n",
      "3     0\n",
      "4     0\n",
      "...  ..\n",
      "7997  5\n",
      "7998  5\n",
      "7999  5\n",
      "8000  5\n",
      "8001  5\n",
      "\n",
      "[8002 rows x 1 columns]\n"
     ]
    }
   ],
   "source": [
    "df_pred_test = pd.DataFrame(data=pred_test_labels.flatten())\n",
    "print(df_pred_test)"
   ]
  },
  {
   "cell_type": "code",
   "execution_count": 37,
   "id": "7f61c5ab",
   "metadata": {},
   "outputs": [
    {
     "name": "stdout",
     "output_type": "stream",
     "text": [
      "       0\n",
      "0      0\n",
      "1      5\n",
      "2      0\n",
      "3      5\n",
      "4      5\n",
      "...   ..\n",
      "45339  0\n",
      "45340  0\n",
      "45341  0\n",
      "45342  0\n",
      "45343  0\n",
      "\n",
      "[45344 rows x 1 columns]\n"
     ]
    }
   ],
   "source": [
    "df_pred_train = pd.DataFrame(data=pred_train_labels.flatten())\n",
    "print(df_pred_train)"
   ]
  },
  {
   "cell_type": "code",
   "execution_count": 38,
   "id": "77e4267d",
   "metadata": {},
   "outputs": [],
   "source": [
    "df_train=df.head(45344)"
   ]
  },
  {
   "cell_type": "code",
   "execution_count": 39,
   "id": "7dcff691",
   "metadata": {},
   "outputs": [],
   "source": [
    "Final_train = pd.concat([df_train, df_pred_train], axis=1, ignore_index=True)"
   ]
  },
  {
   "cell_type": "code",
   "execution_count": 40,
   "id": "4cede866",
   "metadata": {},
   "outputs": [],
   "source": [
    "#Include column names\n",
    "Consolidated = Final_train.rename(columns = {0: 'True_Category',1: 'Message',2: 'P_Category'}, inplace = False)"
   ]
  },
  {
   "cell_type": "code",
   "execution_count": 41,
   "id": "26a1eea2",
   "metadata": {},
   "outputs": [],
   "source": [
    "#Recode basket or bucket data\n",
    "a=\"\"\"select \n",
    "True_Category,\n",
    "Message,\n",
    "case when P_Category=0 then 'ambulatory'\n",
    "     when P_Category=1 then 'emergency'\n",
    "     when P_Category=2 then 'inpatient'\n",
    "     when P_Category=3 then 'outpatient'\n",
    "     when P_Category=4 then 'urgentcare'\n",
    "     when P_Category=5 then 'wellness'\n",
    "     else 'nontriage'\n",
    "end as Predicted_Basket\n",
    "from Consolidated;\"\"\"\n",
    "pysqldf = lambda a: sqldf(a, globals())\n",
    "encounters_df_train = pysqldf(a)"
   ]
  },
  {
   "cell_type": "code",
   "execution_count": 42,
   "id": "a705c290",
   "metadata": {},
   "outputs": [],
   "source": [
    "df_enc=encounters.head(45344)"
   ]
  },
  {
   "cell_type": "code",
   "execution_count": 58,
   "id": "9fef4660",
   "metadata": {},
   "outputs": [],
   "source": [
    "#Relevant records and fields from encounters and patients data\n",
    "b=\"\"\"select \n",
    "x.PATIENT,\n",
    "x.START,\n",
    "(y.FIRST||' '||y.LAST) as Patient_Name,\n",
    "y.BIRTHDATE,\n",
    "y.MARITAL,\n",
    "y.RACE,\n",
    "y.GENDER\n",
    "from df_enc x\n",
    "left join patients y on x.PATIENT=y.Id;\"\"\"\n",
    "pysqldf = lambda b: sqldf(b, globals())\n",
    "df_enc_pat = pysqldf(b)"
   ]
  },
  {
   "cell_type": "code",
   "execution_count": 59,
   "id": "2728a9a6",
   "metadata": {},
   "outputs": [],
   "source": [
    "Final_Consolidated = pd.concat([df_enc_pat, encounters_df_train ], axis=1, ignore_index=True)"
   ]
  },
  {
   "cell_type": "code",
   "execution_count": 60,
   "id": "5f12fb08",
   "metadata": {},
   "outputs": [],
   "source": [
    "#Rename columns\n",
    "Final_Results = Final_Consolidated.rename(columns = {0: 'Patient_ID',1: 'Date_of_Message',2: 'Patient_Name',3: 'Patient_DOB',4: 'Patient_Marital_Status',5: 'Patient_Race',6: 'Patient_Gender',7: 'True_Basket',8: 'Patient_Message',9: 'Predicted_Basket'}, inplace = False)"
   ]
  },
  {
   "cell_type": "code",
   "execution_count": 61,
   "id": "2bdc8d3f",
   "metadata": {},
   "outputs": [],
   "source": [
    "#Triaged ambulatory report\n",
    "b=\"\"\"select * from Final_Results where Predicted_Basket='ambulatory';\"\"\"\n",
    "pysqldf = lambda b: sqldf(b, globals())\n",
    "ambulatory = pysqldf(b)"
   ]
  },
  {
   "cell_type": "code",
   "execution_count": 62,
   "id": "f747c36f",
   "metadata": {},
   "outputs": [],
   "source": [
    "#Triaged emergency report\n",
    "b=\"\"\"select * from Final_Results where Predicted_Basket='emergency';\"\"\"\n",
    "pysqldf = lambda b: sqldf(b, globals())\n",
    "emergency = pysqldf(b)"
   ]
  },
  {
   "cell_type": "code",
   "execution_count": 63,
   "id": "4ee91490",
   "metadata": {},
   "outputs": [],
   "source": [
    "#Triaged inpatient report\n",
    "b=\"\"\"select * from Final_Results where Predicted_Basket='inpatient';\"\"\"\n",
    "pysqldf = lambda b: sqldf(b, globals())\n",
    "inpatient = pysqldf(b)"
   ]
  },
  {
   "cell_type": "code",
   "execution_count": 64,
   "id": "be345e46",
   "metadata": {},
   "outputs": [],
   "source": [
    "#Triaged outpatient report\n",
    "b=\"\"\"select * from Final_Results where Predicted_Basket='outpatient';\"\"\"\n",
    "pysqldf = lambda b: sqldf(b, globals())\n",
    "outpatient = pysqldf(b)"
   ]
  },
  {
   "cell_type": "code",
   "execution_count": 65,
   "id": "3097d2bd",
   "metadata": {},
   "outputs": [],
   "source": [
    "#Triaged urgentcare report\n",
    "b=\"\"\"select * from Final_Results where Predicted_Basket='urgentcare';\"\"\"\n",
    "pysqldf = lambda b: sqldf(b, globals())\n",
    "urgentcare = pysqldf(b)"
   ]
  },
  {
   "cell_type": "code",
   "execution_count": 66,
   "id": "ce224a3e",
   "metadata": {},
   "outputs": [],
   "source": [
    "#Triaged wellness report\n",
    "b=\"\"\"select * from Final_Results where Predicted_Basket='wellness';\"\"\"\n",
    "pysqldf = lambda b: sqldf(b, globals())\n",
    "wellness = pysqldf(b)"
   ]
  },
  {
   "cell_type": "code",
   "execution_count": 67,
   "id": "f4fe3765",
   "metadata": {},
   "outputs": [],
   "source": [
    "#Export individual and Final_Results to csv\n",
    "Final_Results.to_csv(r'C:\\Users\\olajideajayi\\OneDrive - Microsoft\\Desktop\\WIP\\2 JohnB Pipeline\\Triage Model\\Final_Results.csv', index = False)\n",
    "ambulatory.to_csv(r'C:\\Users\\olajideajayi\\OneDrive - Microsoft\\Desktop\\WIP\\2 JohnB Pipeline\\Triage Model\\ambulatory_Results.csv', index = False)\n",
    "emergency.to_csv(r'C:\\Users\\olajideajayi\\OneDrive - Microsoft\\Desktop\\WIP\\2 JohnB Pipeline\\Triage Model\\emergency_Results.csv', index = False)\n",
    "inpatient.to_csv(r'C:\\Users\\olajideajayi\\OneDrive - Microsoft\\Desktop\\WIP\\2 JohnB Pipeline\\Triage Model\\inpatient_Results.csv', index = False)\n",
    "outpatient.to_csv(r'C:\\Users\\olajideajayi\\OneDrive - Microsoft\\Desktop\\WIP\\2 JohnB Pipeline\\Triage Model\\outpatient_Results.csv', index = False)\n",
    "urgentcare.to_csv(r'C:\\Users\\olajideajayi\\OneDrive - Microsoft\\Desktop\\WIP\\2 JohnB Pipeline\\Triage Model\\urgentcare_Results.csv', index = False)\n",
    "wellness.to_csv(r'C:\\Users\\olajideajayi\\OneDrive - Microsoft\\Desktop\\WIP\\2 JohnB Pipeline\\Triage Model\\wellness_Results.csv', index = False)"
   ]
  }
 ],
 "metadata": {
  "kernelspec": {
   "display_name": "Python 3 (ipykernel)",
   "language": "python",
   "name": "python3"
  },
  "language_info": {
   "codemirror_mode": {
    "name": "ipython",
    "version": 3
   },
   "file_extension": ".py",
   "mimetype": "text/x-python",
   "name": "python",
   "nbconvert_exporter": "python",
   "pygments_lexer": "ipython3",
   "version": "3.9.7"
  }
 },
 "nbformat": 4,
 "nbformat_minor": 5
}
